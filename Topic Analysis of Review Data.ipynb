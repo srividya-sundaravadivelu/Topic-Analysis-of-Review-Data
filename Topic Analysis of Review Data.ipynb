{
 "cells": [
  {
   "cell_type": "markdown",
   "id": "b76160c6",
   "metadata": {},
   "source": [
    "# Topic Analysis of Review Data."
   ]
  },
  {
   "cell_type": "markdown",
   "id": "2aaa4553",
   "metadata": {},
   "source": [
    "#### DESCRIPTION\n",
    "\n",
    "Help a leading mobile brand understand the voice of the customer by analyzing the reviews of their product on Amazon and the topics that customers are talking about. You will perform topic modeling on specific parts of speech. You’ll finally interpret the emerging topics.\n",
    "\n",
    "Problem Statement: \n",
    "\n",
    "A popular mobile phone brand, Lenovo has launched their budget smartphone in the Indian market. The client wants to understand the VOC (voice of the customer) on the product. This will be useful to not just evaluate the current product, but to also get some direction for developing the product pipeline. The client is particularly interested in the different aspects that customers care about. Product reviews by customers on a leading e-commerce site should provide a good view.\n",
    "\n",
    "Domain: Amazon reviews for a leading phone brand\n",
    "\n",
    "Analysis to be done: POS tagging, topic modeling using LDA, and topic interpretation\n",
    "\n",
    "Content: \n",
    "\n",
    "Dataset: ‘K8 Reviews v0.2.csv’\n",
    "\n",
    "Columns:\n",
    "\n",
    "Sentiment: The sentiment against the review (4,5 star reviews are positive, 1,2 are negative)\n",
    "\n",
    "Reviews: The main text of the review\n",
    "\n",
    "Steps to perform:\n",
    "\n",
    "Discover the topics in the reviews and present it to business in a consumable format. Employ techniques in syntactic processing and topic modeling.\n",
    "\n",
    "Perform specific cleanup, POS tagging, and restricting to relevant POS tags, then, perform topic modeling using LDA. Finally, give business-friendly names to the topics and make a table for business.\n",
    "\n",
    "Tasks: \n",
    "\n",
    "1.Read the .csv file using Pandas. Take a look at the top few records.\n",
    "\n",
    "2.Normalize casings for the review text and extract the text into a list for easier manipulation.\n",
    "\n",
    "3.Tokenize the reviews using NLTKs word_tokenize function.\n",
    "\n",
    "4.Perform parts-of-speech tagging on each sentence using the NLTK POS tagger.\n",
    "\n",
    "5.For the topic model, we should  want to include only nouns.\n",
    "\n",
    "Find out all the POS tags that correspond to nouns.\n",
    "\n",
    "Limit the data to only terms with these tags.\n",
    "\n",
    "6.Lemmatize. \n",
    "\n",
    "Different forms of the terms need to be treated as one.\n",
    "\n",
    "No need to provide POS tag to lemmatizer for now.\n",
    "\n",
    "7.Remove stopwords and punctuation (if there are any). \n",
    "\n",
    "8.Create a topic model using LDA on the cleaned up data with 12 topics.\n",
    "\n",
    "Print out the top terms for each topic.\n",
    "\n",
    "What is the coherence of the model with the c_v metric?\n",
    "\n",
    "9.Analyze the topics through the business lens.\n",
    "\n",
    "Determine which of the topics can be combined.\n",
    "\n",
    "10.Create topic model using LDA with what you think is the optimal number of topics\n",
    "\n",
    "What is the coherence of the model?\n",
    "\n",
    "11.The business should  be able to interpret the topics.\n",
    "\n",
    "Name each of the identified topics.\n",
    "\n",
    "Create a table with the topic name and the top 10 terms in each to present to the  business."
   ]
  },
  {
   "cell_type": "code",
   "execution_count": 1,
   "id": "7acbd90a",
   "metadata": {},
   "outputs": [],
   "source": [
    "# Importing the necessary libraries"
   ]
  },
  {
   "cell_type": "code",
   "execution_count": 2,
   "id": "e3485343",
   "metadata": {},
   "outputs": [
    {
     "name": "stderr",
     "output_type": "stream",
     "text": [
      "[nltk_data] Downloading package stopwords to\n",
      "[nltk_data]     C:\\Users\\srivi\\AppData\\Roaming\\nltk_data...\n",
      "[nltk_data]   Package stopwords is already up-to-date!\n",
      "[nltk_data] Downloading package punkt to\n",
      "[nltk_data]     C:\\Users\\srivi\\AppData\\Roaming\\nltk_data...\n",
      "[nltk_data]   Package punkt is already up-to-date!\n",
      "[nltk_data] Downloading package averaged_perceptron_tagger to\n",
      "[nltk_data]     C:\\Users\\srivi\\AppData\\Roaming\\nltk_data...\n",
      "[nltk_data]   Package averaged_perceptron_tagger is already up-to-\n",
      "[nltk_data]       date!\n"
     ]
    }
   ],
   "source": [
    "import pandas as pd\n",
    "import matplotlib.pyplot as plt\n",
    "import seaborn as sns\n",
    "import nltk\n",
    "import re\n",
    "import string\n",
    "from collections import Counter\n",
    "from nltk.corpus import stopwords\n",
    "nltk.download('stopwords')\n",
    "nltk.download('punkt')\n",
    "nltk.download('averaged_perceptron_tagger')\n",
    "from sklearn.feature_extraction.text import CountVectorizer, TfidfVectorizer\n",
    "from sklearn.decomposition import NMF, LatentDirichletAllocation\n",
    "from nltk.stem import WordNetLemmatizer \n",
    "import numpy as np\n",
    "from sklearn.model_selection import GridSearchCV "
   ]
  },
  {
   "cell_type": "markdown",
   "id": "40f808eb",
   "metadata": {},
   "source": [
    "## Task 1: Read the .csv file using Pandas. Take a look at the top few records."
   ]
  },
  {
   "cell_type": "code",
   "execution_count": 3,
   "id": "58c9f0df",
   "metadata": {},
   "outputs": [],
   "source": [
    "df = pd.read_csv('K8 Reviews v0.2.csv')"
   ]
  },
  {
   "cell_type": "code",
   "execution_count": 4,
   "id": "e90b7e10",
   "metadata": {},
   "outputs": [
    {
     "data": {
      "text/html": [
       "<div>\n",
       "<style scoped>\n",
       "    .dataframe tbody tr th:only-of-type {\n",
       "        vertical-align: middle;\n",
       "    }\n",
       "\n",
       "    .dataframe tbody tr th {\n",
       "        vertical-align: top;\n",
       "    }\n",
       "\n",
       "    .dataframe thead th {\n",
       "        text-align: right;\n",
       "    }\n",
       "</style>\n",
       "<table border=\"1\" class=\"dataframe\">\n",
       "  <thead>\n",
       "    <tr style=\"text-align: right;\">\n",
       "      <th></th>\n",
       "      <th>sentiment</th>\n",
       "      <th>review</th>\n",
       "    </tr>\n",
       "  </thead>\n",
       "  <tbody>\n",
       "    <tr>\n",
       "      <th>0</th>\n",
       "      <td>1</td>\n",
       "      <td>Good but need updates and improvements</td>\n",
       "    </tr>\n",
       "    <tr>\n",
       "      <th>1</th>\n",
       "      <td>0</td>\n",
       "      <td>Worst mobile i have bought ever, Battery is dr...</td>\n",
       "    </tr>\n",
       "    <tr>\n",
       "      <th>2</th>\n",
       "      <td>1</td>\n",
       "      <td>when I will get my 10% cash back.... its alrea...</td>\n",
       "    </tr>\n",
       "    <tr>\n",
       "      <th>3</th>\n",
       "      <td>1</td>\n",
       "      <td>Good</td>\n",
       "    </tr>\n",
       "    <tr>\n",
       "      <th>4</th>\n",
       "      <td>0</td>\n",
       "      <td>The worst phone everThey have changed the last...</td>\n",
       "    </tr>\n",
       "  </tbody>\n",
       "</table>\n",
       "</div>"
      ],
      "text/plain": [
       "   sentiment                                             review\n",
       "0          1             Good but need updates and improvements\n",
       "1          0  Worst mobile i have bought ever, Battery is dr...\n",
       "2          1  when I will get my 10% cash back.... its alrea...\n",
       "3          1                                               Good\n",
       "4          0  The worst phone everThey have changed the last..."
      ]
     },
     "execution_count": 4,
     "metadata": {},
     "output_type": "execute_result"
    }
   ],
   "source": [
    "df.head()"
   ]
  },
  {
   "cell_type": "code",
   "execution_count": 5,
   "id": "015f3a06",
   "metadata": {},
   "outputs": [
    {
     "name": "stdout",
     "output_type": "stream",
     "text": [
      "<class 'pandas.core.frame.DataFrame'>\n",
      "RangeIndex: 14675 entries, 0 to 14674\n",
      "Data columns (total 2 columns):\n",
      " #   Column     Non-Null Count  Dtype \n",
      "---  ------     --------------  ----- \n",
      " 0   sentiment  14675 non-null  int64 \n",
      " 1   review     14675 non-null  object\n",
      "dtypes: int64(1), object(1)\n",
      "memory usage: 229.4+ KB\n"
     ]
    }
   ],
   "source": [
    "df.info()"
   ]
  },
  {
   "cell_type": "code",
   "execution_count": 6,
   "id": "a43fc153",
   "metadata": {},
   "outputs": [
    {
     "data": {
      "text/plain": [
       "0    7712\n",
       "1    6963\n",
       "Name: sentiment, dtype: int64"
      ]
     },
     "execution_count": 6,
     "metadata": {},
     "output_type": "execute_result"
    }
   ],
   "source": [
    "df['sentiment'].value_counts()"
   ]
  },
  {
   "cell_type": "code",
   "execution_count": 7,
   "id": "85caa63d",
   "metadata": {},
   "outputs": [
    {
     "data": {
      "text/plain": [
       "<AxesSubplot:xlabel='sentiment', ylabel='count'>"
      ]
     },
     "execution_count": 7,
     "metadata": {},
     "output_type": "execute_result"
    },
    {
     "data": {
      "image/png": "[encoded data removed]",
      "text/plain": [
       "<Figure size 432x288 with 1 Axes>"
      ]
     },
     "metadata": {
      "needs_background": "light"
     },
     "output_type": "display_data"
    }
   ],
   "source": [
    "sns.countplot(x='sentiment',data=df)\n"
   ]
  },
  {
   "cell_type": "markdown",
   "id": "afee2e59",
   "metadata": {},
   "source": [
    "## Task 2. Normalize casings for the review text and extract the text into a list for easier manipulation."
   ]
  },
  {
   "cell_type": "code",
   "execution_count": 8,
   "id": "4e593ccc",
   "metadata": {},
   "outputs": [],
   "source": [
    "reviews = df['review'].values"
   ]
  },
  {
   "cell_type": "code",
   "execution_count": 9,
   "id": "13fdee59",
   "metadata": {},
   "outputs": [
    {
     "data": {
      "text/plain": [
       "array(['Good but need updates and improvements',\n",
       "       \"Worst mobile i have bought ever, Battery is draining like hell, backup is only 6 to 7 hours with internet uses, even if I put mobile idle its getting discharged.This is biggest lie from Amazon & Lenove which is not at all expected, they are making full by saying that battery is 4000MAH & booster charger is fake, it takes at least 4 to 5 hours to be fully charged.Don't know how Lenovo will survive by making full of us.Please don;t go for this else you will regret like me.\",\n",
       "       'when I will get my 10% cash back.... its already 15 January..',\n",
       "       ..., 'Awesome Gaget.. @ this price',\n",
       "       'This phone is nice processing will be successful but dual camera is not be successfully in dual mod',\n",
       "       'Good product but the pakeging was not enough.'], dtype=object)"
      ]
     },
     "execution_count": 9,
     "metadata": {},
     "output_type": "execute_result"
    }
   ],
   "source": [
    "reviews"
   ]
  },
  {
   "cell_type": "code",
   "execution_count": 10,
   "id": "ca6109c9",
   "metadata": {},
   "outputs": [],
   "source": [
    "reviews = [review.lower() for review in reviews]"
   ]
  },
  {
   "cell_type": "code",
   "execution_count": 11,
   "id": "8519831e",
   "metadata": {},
   "outputs": [
    {
     "data": {
      "text/plain": [
       "['good but need updates and improvements',\n",
       " \"worst mobile i have bought ever, battery is draining like hell, backup is only 6 to 7 hours with internet uses, even if i put mobile idle its getting discharged.this is biggest lie from amazon & lenove which is not at all expected, they are making full by saying that battery is 4000mah & booster charger is fake, it takes at least 4 to 5 hours to be fully charged.don't know how lenovo will survive by making full of us.please don;t go for this else you will regret like me.\",\n",
       " 'when i will get my 10% cash back.... its already 15 january..',\n",
       " 'good',\n",
       " 'the worst phone everthey have changed the last phone but the problem is still same and the amazon is not returning the phone .highly disappointing of amazon',\n",
       " \"only i'm telling don't buyi'm totally disappointedpoor batterypoor camerawaste of money\",\n",
       " 'phone is awesome. but while charging, it heats up allot..really a genuine reason to hate lenovo k8 note',\n",
       " 'the battery level has worn down',\n",
       " \"it's over hitting problems...and phone hanging problems lenovo k 8 note...so where is service station in ahmedabad it's one years warranty so it's can change the phone by lenovo\",\n",
       " 'a lot of glitches dont buy this thing better go for some other options']"
      ]
     },
     "execution_count": 11,
     "metadata": {},
     "output_type": "execute_result"
    }
   ],
   "source": [
    "reviews[:10]"
   ]
  },
  {
   "cell_type": "markdown",
   "id": "02834c6a",
   "metadata": {},
   "source": [
    "## Task 3. Tokenize the reviews using NLTKs word_tokenize function."
   ]
  },
  {
   "cell_type": "code",
   "execution_count": 12,
   "id": "82e3a222",
   "metadata": {},
   "outputs": [],
   "source": [
    "tokens = [nltk.word_tokenize(review) for review in reviews]"
   ]
  },
  {
   "cell_type": "code",
   "execution_count": 13,
   "id": "14e4980d",
   "metadata": {},
   "outputs": [
    {
     "data": {
      "text/plain": [
       "[['good', 'but', 'need', 'updates', 'and', 'improvements'],\n",
       " ['worst',\n",
       "  'mobile',\n",
       "  'i',\n",
       "  'have',\n",
       "  'bought',\n",
       "  'ever',\n",
       "  ',',\n",
       "  'battery',\n",
       "  'is',\n",
       "  'draining',\n",
       "  'like',\n",
       "  'hell',\n",
       "  ',',\n",
       "  'backup',\n",
       "  'is',\n",
       "  'only',\n",
       "  '6',\n",
       "  'to',\n",
       "  '7',\n",
       "  'hours',\n",
       "  'with',\n",
       "  'internet',\n",
       "  'uses',\n",
       "  ',',\n",
       "  'even',\n",
       "  'if',\n",
       "  'i',\n",
       "  'put',\n",
       "  'mobile',\n",
       "  'idle',\n",
       "  'its',\n",
       "  'getting',\n",
       "  'discharged.this',\n",
       "  'is',\n",
       "  'biggest',\n",
       "  'lie',\n",
       "  'from',\n",
       "  'amazon',\n",
       "  '&',\n",
       "  'lenove',\n",
       "  'which',\n",
       "  'is',\n",
       "  'not',\n",
       "  'at',\n",
       "  'all',\n",
       "  'expected',\n",
       "  ',',\n",
       "  'they',\n",
       "  'are',\n",
       "  'making',\n",
       "  'full',\n",
       "  'by',\n",
       "  'saying',\n",
       "  'that',\n",
       "  'battery',\n",
       "  'is',\n",
       "  '4000mah',\n",
       "  '&',\n",
       "  'booster',\n",
       "  'charger',\n",
       "  'is',\n",
       "  'fake',\n",
       "  ',',\n",
       "  'it',\n",
       "  'takes',\n",
       "  'at',\n",
       "  'least',\n",
       "  '4',\n",
       "  'to',\n",
       "  '5',\n",
       "  'hours',\n",
       "  'to',\n",
       "  'be',\n",
       "  'fully',\n",
       "  'charged.do',\n",
       "  \"n't\",\n",
       "  'know',\n",
       "  'how',\n",
       "  'lenovo',\n",
       "  'will',\n",
       "  'survive',\n",
       "  'by',\n",
       "  'making',\n",
       "  'full',\n",
       "  'of',\n",
       "  'us.please',\n",
       "  'don',\n",
       "  ';',\n",
       "  't',\n",
       "  'go',\n",
       "  'for',\n",
       "  'this',\n",
       "  'else',\n",
       "  'you',\n",
       "  'will',\n",
       "  'regret',\n",
       "  'like',\n",
       "  'me',\n",
       "  '.'],\n",
       " ['when',\n",
       "  'i',\n",
       "  'will',\n",
       "  'get',\n",
       "  'my',\n",
       "  '10',\n",
       "  '%',\n",
       "  'cash',\n",
       "  'back',\n",
       "  '....',\n",
       "  'its',\n",
       "  'already',\n",
       "  '15',\n",
       "  'january',\n",
       "  '..'],\n",
       " ['good'],\n",
       " ['the',\n",
       "  'worst',\n",
       "  'phone',\n",
       "  'everthey',\n",
       "  'have',\n",
       "  'changed',\n",
       "  'the',\n",
       "  'last',\n",
       "  'phone',\n",
       "  'but',\n",
       "  'the',\n",
       "  'problem',\n",
       "  'is',\n",
       "  'still',\n",
       "  'same',\n",
       "  'and',\n",
       "  'the',\n",
       "  'amazon',\n",
       "  'is',\n",
       "  'not',\n",
       "  'returning',\n",
       "  'the',\n",
       "  'phone',\n",
       "  '.highly',\n",
       "  'disappointing',\n",
       "  'of',\n",
       "  'amazon']]"
      ]
     },
     "execution_count": 13,
     "metadata": {},
     "output_type": "execute_result"
    }
   ],
   "source": [
    "tokens[:5]"
   ]
  },
  {
   "cell_type": "markdown",
   "id": "67819514",
   "metadata": {},
   "source": [
    "## Task 4: Perform parts-of-speech tagging on each sentence using the NLTK POS tagger."
   ]
  },
  {
   "cell_type": "code",
   "execution_count": 14,
   "id": "124dff9a",
   "metadata": {},
   "outputs": [],
   "source": [
    "pos_tagged_tokens = [nltk.pos_tag(token) for token in tokens]"
   ]
  },
  {
   "cell_type": "code",
   "execution_count": 15,
   "id": "265b7d53",
   "metadata": {},
   "outputs": [
    {
     "data": {
      "text/plain": [
       "[[('good', 'JJ'),\n",
       "  ('but', 'CC'),\n",
       "  ('need', 'VBP'),\n",
       "  ('updates', 'NNS'),\n",
       "  ('and', 'CC'),\n",
       "  ('improvements', 'NNS')],\n",
       " [('worst', 'JJS'),\n",
       "  ('mobile', 'NN'),\n",
       "  ('i', 'NN'),\n",
       "  ('have', 'VBP'),\n",
       "  ('bought', 'VBN'),\n",
       "  ('ever', 'RB'),\n",
       "  (',', ','),\n",
       "  ('battery', 'NN'),\n",
       "  ('is', 'VBZ'),\n",
       "  ('draining', 'VBG'),\n",
       "  ('like', 'IN'),\n",
       "  ('hell', 'NN'),\n",
       "  (',', ','),\n",
       "  ('backup', 'NN'),\n",
       "  ('is', 'VBZ'),\n",
       "  ('only', 'RB'),\n",
       "  ('6', 'CD'),\n",
       "  ('to', 'TO'),\n",
       "  ('7', 'CD'),\n",
       "  ('hours', 'NNS'),\n",
       "  ('with', 'IN'),\n",
       "  ('internet', 'JJ'),\n",
       "  ('uses', 'NNS'),\n",
       "  (',', ','),\n",
       "  ('even', 'RB'),\n",
       "  ('if', 'IN'),\n",
       "  ('i', 'JJ'),\n",
       "  ('put', 'VBP'),\n",
       "  ('mobile', 'JJ'),\n",
       "  ('idle', 'NN'),\n",
       "  ('its', 'PRP$'),\n",
       "  ('getting', 'VBG'),\n",
       "  ('discharged.this', 'NN'),\n",
       "  ('is', 'VBZ'),\n",
       "  ('biggest', 'JJS'),\n",
       "  ('lie', 'NN'),\n",
       "  ('from', 'IN'),\n",
       "  ('amazon', 'NN'),\n",
       "  ('&', 'CC'),\n",
       "  ('lenove', 'NN'),\n",
       "  ('which', 'WDT'),\n",
       "  ('is', 'VBZ'),\n",
       "  ('not', 'RB'),\n",
       "  ('at', 'IN'),\n",
       "  ('all', 'DT'),\n",
       "  ('expected', 'VBN'),\n",
       "  (',', ','),\n",
       "  ('they', 'PRP'),\n",
       "  ('are', 'VBP'),\n",
       "  ('making', 'VBG'),\n",
       "  ('full', 'JJ'),\n",
       "  ('by', 'IN'),\n",
       "  ('saying', 'VBG'),\n",
       "  ('that', 'DT'),\n",
       "  ('battery', 'NN'),\n",
       "  ('is', 'VBZ'),\n",
       "  ('4000mah', 'CD'),\n",
       "  ('&', 'CC'),\n",
       "  ('booster', 'JJR'),\n",
       "  ('charger', 'NN'),\n",
       "  ('is', 'VBZ'),\n",
       "  ('fake', 'JJ'),\n",
       "  (',', ','),\n",
       "  ('it', 'PRP'),\n",
       "  ('takes', 'VBZ'),\n",
       "  ('at', 'IN'),\n",
       "  ('least', 'JJS'),\n",
       "  ('4', 'CD'),\n",
       "  ('to', 'TO'),\n",
       "  ('5', 'CD'),\n",
       "  ('hours', 'NNS'),\n",
       "  ('to', 'TO'),\n",
       "  ('be', 'VB'),\n",
       "  ('fully', 'RB'),\n",
       "  ('charged.do', 'VBP'),\n",
       "  (\"n't\", 'RB'),\n",
       "  ('know', 'VB'),\n",
       "  ('how', 'WRB'),\n",
       "  ('lenovo', 'JJ'),\n",
       "  ('will', 'MD'),\n",
       "  ('survive', 'VB'),\n",
       "  ('by', 'IN'),\n",
       "  ('making', 'VBG'),\n",
       "  ('full', 'JJ'),\n",
       "  ('of', 'IN'),\n",
       "  ('us.please', 'JJ'),\n",
       "  ('don', 'NN'),\n",
       "  (';', ':'),\n",
       "  ('t', 'CC'),\n",
       "  ('go', 'VB'),\n",
       "  ('for', 'IN'),\n",
       "  ('this', 'DT'),\n",
       "  ('else', 'JJ'),\n",
       "  ('you', 'PRP'),\n",
       "  ('will', 'MD'),\n",
       "  ('regret', 'VB'),\n",
       "  ('like', 'IN'),\n",
       "  ('me', 'PRP'),\n",
       "  ('.', '.')],\n",
       " [('when', 'WRB'),\n",
       "  ('i', 'NN'),\n",
       "  ('will', 'MD'),\n",
       "  ('get', 'VB'),\n",
       "  ('my', 'PRP$'),\n",
       "  ('10', 'CD'),\n",
       "  ('%', 'NN'),\n",
       "  ('cash', 'NN'),\n",
       "  ('back', 'RB'),\n",
       "  ('....', 'VBZ'),\n",
       "  ('its', 'PRP$'),\n",
       "  ('already', 'RB'),\n",
       "  ('15', 'CD'),\n",
       "  ('january', 'JJ'),\n",
       "  ('..', 'NN')],\n",
       " [('good', 'JJ')],\n",
       " [('the', 'DT'),\n",
       "  ('worst', 'JJS'),\n",
       "  ('phone', 'NN'),\n",
       "  ('everthey', 'NN'),\n",
       "  ('have', 'VBP'),\n",
       "  ('changed', 'VBN'),\n",
       "  ('the', 'DT'),\n",
       "  ('last', 'JJ'),\n",
       "  ('phone', 'NN'),\n",
       "  ('but', 'CC'),\n",
       "  ('the', 'DT'),\n",
       "  ('problem', 'NN'),\n",
       "  ('is', 'VBZ'),\n",
       "  ('still', 'RB'),\n",
       "  ('same', 'JJ'),\n",
       "  ('and', 'CC'),\n",
       "  ('the', 'DT'),\n",
       "  ('amazon', 'NN'),\n",
       "  ('is', 'VBZ'),\n",
       "  ('not', 'RB'),\n",
       "  ('returning', 'VBG'),\n",
       "  ('the', 'DT'),\n",
       "  ('phone', 'NN'),\n",
       "  ('.highly', 'RB'),\n",
       "  ('disappointing', 'JJ'),\n",
       "  ('of', 'IN'),\n",
       "  ('amazon', 'NN')]]"
      ]
     },
     "execution_count": 15,
     "metadata": {},
     "output_type": "execute_result"
    }
   ],
   "source": [
    "pos_tagged_tokens[:5]"
   ]
  },
  {
   "cell_type": "code",
   "execution_count": 16,
   "id": "d2197835",
   "metadata": {},
   "outputs": [
    {
     "data": {
      "text/plain": [
       "[('good', 'JJ'),\n",
       " ('but', 'CC'),\n",
       " ('need', 'VBP'),\n",
       " ('updates', 'NNS'),\n",
       " ('and', 'CC'),\n",
       " ('improvements', 'NNS')]"
      ]
     },
     "execution_count": 16,
     "metadata": {},
     "output_type": "execute_result"
    }
   ],
   "source": [
    "pos_tagged_tokens[0]"
   ]
  },
  {
   "cell_type": "markdown",
   "id": "35d63408",
   "metadata": {},
   "source": [
    "## Task 5: For the topic model, we should  want to include only nouns."
   ]
  },
  {
   "cell_type": "code",
   "execution_count": 17,
   "id": "f4e31544",
   "metadata": {},
   "outputs": [
    {
     "name": "stderr",
     "output_type": "stream",
     "text": [
      "[nltk_data] Downloading package tagsets to\n",
      "[nltk_data]     C:\\Users\\srivi\\AppData\\Roaming\\nltk_data...\n",
      "[nltk_data]   Package tagsets is already up-to-date!\n"
     ]
    },
    {
     "data": {
      "text/plain": [
       "True"
      ]
     },
     "execution_count": 17,
     "metadata": {},
     "output_type": "execute_result"
    }
   ],
   "source": [
    "nltk.download('tagsets')"
   ]
  },
  {
   "cell_type": "code",
   "execution_count": 18,
   "id": "4caf546d",
   "metadata": {},
   "outputs": [
    {
     "name": "stdout",
     "output_type": "stream",
     "text": [
      "$: dollar\n",
      "    $ -$ --$ A$ C$ HK$ M$ NZ$ S$ U.S.$ US$\n",
      "'': closing quotation mark\n",
      "    ' ''\n",
      "(: opening parenthesis\n",
      "    ( [ {\n",
      "): closing parenthesis\n",
      "    ) ] }\n",
      ",: comma\n",
      "    ,\n",
      "--: dash\n",
      "    --\n",
      ".: sentence terminator\n",
      "    . ! ?\n",
      ":: colon or ellipsis\n",
      "    : ; ...\n",
      "CC: conjunction, coordinating\n",
      "    & 'n and both but either et for less minus neither nor or plus so\n",
      "    therefore times v. versus vs. whether yet\n",
      "CD: numeral, cardinal\n",
      "    mid-1890 nine-thirty forty-two one-tenth ten million 0.5 one forty-\n",
      "    seven 1987 twenty '79 zero two 78-degrees eighty-four IX '60s .025\n",
      "    fifteen 271,124 dozen quintillion DM2,000 ...\n",
      "DT: determiner\n",
      "    all an another any both del each either every half la many much nary\n",
      "    neither no some such that the them these this those\n",
      "EX: existential there\n",
      "    there\n",
      "FW: foreign word\n",
      "    gemeinschaft hund ich jeux habeas Haementeria Herr K'ang-si vous\n",
      "    lutihaw alai je jour objets salutaris fille quibusdam pas trop Monte\n",
      "    terram fiche oui corporis ...\n",
      "IN: preposition or conjunction, subordinating\n",
      "    astride among uppon whether out inside pro despite on by throughout\n",
      "    below within for towards near behind atop around if like until below\n",
      "    next into if beside ...\n",
      "JJ: adjective or numeral, ordinal\n",
      "    third ill-mannered pre-war regrettable oiled calamitous first separable\n",
      "    ectoplasmic battery-powered participatory fourth still-to-be-named\n",
      "    multilingual multi-disciplinary ...\n",
      "JJR: adjective, comparative\n",
      "    bleaker braver breezier briefer brighter brisker broader bumper busier\n",
      "    calmer cheaper choosier cleaner clearer closer colder commoner costlier\n",
      "    cozier creamier crunchier cuter ...\n",
      "JJS: adjective, superlative\n",
      "    calmest cheapest choicest classiest cleanest clearest closest commonest\n",
      "    corniest costliest crassest creepiest crudest cutest darkest deadliest\n",
      "    dearest deepest densest dinkiest ...\n",
      "LS: list item marker\n",
      "    A A. B B. C C. D E F First G H I J K One SP-44001 SP-44002 SP-44005\n",
      "    SP-44007 Second Third Three Two * a b c d first five four one six three\n",
      "    two\n",
      "MD: modal auxiliary\n",
      "    can cannot could couldn't dare may might must need ought shall should\n",
      "    shouldn't will would\n",
      "NN: noun, common, singular or mass\n",
      "    common-carrier cabbage knuckle-duster Casino afghan shed thermostat\n",
      "    investment slide humour falloff slick wind hyena override subhumanity\n",
      "    machinist ...\n",
      "NNP: noun, proper, singular\n",
      "    Motown Venneboerger Czestochwa Ranzer Conchita Trumplane Christos\n",
      "    Oceanside Escobar Kreisler Sawyer Cougar Yvette Ervin ODI Darryl CTCA\n",
      "    Shannon A.K.C. Meltex Liverpool ...\n",
      "NNPS: noun, proper, plural\n",
      "    Americans Americas Amharas Amityvilles Amusements Anarcho-Syndicalists\n",
      "    Andalusians Andes Andruses Angels Animals Anthony Antilles Antiques\n",
      "    Apache Apaches Apocrypha ...\n",
      "NNS: noun, common, plural\n",
      "    undergraduates scotches bric-a-brac products bodyguards facets coasts\n",
      "    divestitures storehouses designs clubs fragrances averages\n",
      "    subjectivists apprehensions muses factory-jobs ...\n",
      "PDT: pre-determiner\n",
      "    all both half many quite such sure this\n",
      "POS: genitive marker\n",
      "    ' 's\n",
      "PRP: pronoun, personal\n",
      "    hers herself him himself hisself it itself me myself one oneself ours\n",
      "    ourselves ownself self she thee theirs them themselves they thou thy us\n",
      "PRP$: pronoun, possessive\n",
      "    her his mine my our ours their thy your\n",
      "RB: adverb\n",
      "    occasionally unabatingly maddeningly adventurously professedly\n",
      "    stirringly prominently technologically magisterially predominately\n",
      "    swiftly fiscally pitilessly ...\n",
      "RBR: adverb, comparative\n",
      "    further gloomier grander graver greater grimmer harder harsher\n",
      "    healthier heavier higher however larger later leaner lengthier less-\n",
      "    perfectly lesser lonelier longer louder lower more ...\n",
      "RBS: adverb, superlative\n",
      "    best biggest bluntest earliest farthest first furthest hardest\n",
      "    heartiest highest largest least less most nearest second tightest worst\n",
      "RP: particle\n",
      "    aboard about across along apart around aside at away back before behind\n",
      "    by crop down ever fast for forth from go high i.e. in into just later\n",
      "    low more off on open out over per pie raising start teeth that through\n",
      "    under unto up up-pp upon whole with you\n",
      "SYM: symbol\n",
      "    % & ' '' ''. ) ). * + ,. < = > @ A[fj] U.S U.S.S.R * ** ***\n",
      "TO: \"to\" as preposition or infinitive marker\n",
      "    to\n",
      "UH: interjection\n",
      "    Goodbye Goody Gosh Wow Jeepers Jee-sus Hubba Hey Kee-reist Oops amen\n",
      "    huh howdy uh dammit whammo shucks heck anyways whodunnit honey golly\n",
      "    man baby diddle hush sonuvabitch ...\n",
      "VB: verb, base form\n",
      "    ask assemble assess assign assume atone attention avoid bake balkanize\n",
      "    bank begin behold believe bend benefit bevel beware bless boil bomb\n",
      "    boost brace break bring broil brush build ...\n",
      "VBD: verb, past tense\n",
      "    dipped pleaded swiped regummed soaked tidied convened halted registered\n",
      "    cushioned exacted snubbed strode aimed adopted belied figgered\n",
      "    speculated wore appreciated contemplated ...\n",
      "VBG: verb, present participle or gerund\n",
      "    telegraphing stirring focusing angering judging stalling lactating\n",
      "    hankerin' alleging veering capping approaching traveling besieging\n",
      "    encrypting interrupting erasing wincing ...\n",
      "VBN: verb, past participle\n",
      "    multihulled dilapidated aerosolized chaired languished panelized used\n",
      "    experimented flourished imitated reunifed factored condensed sheared\n",
      "    unsettled primed dubbed desired ...\n",
      "VBP: verb, present tense, not 3rd person singular\n",
      "    predominate wrap resort sue twist spill cure lengthen brush terminate\n",
      "    appear tend stray glisten obtain comprise detest tease attract\n",
      "    emphasize mold postpone sever return wag ...\n",
      "VBZ: verb, present tense, 3rd person singular\n",
      "    bases reconstructs marks mixes displeases seals carps weaves snatches\n",
      "    slumps stretches authorizes smolders pictures emerges stockpiles\n",
      "    seduces fizzes uses bolsters slaps speaks pleads ...\n",
      "WDT: WH-determiner\n",
      "    that what whatever which whichever\n",
      "WP: WH-pronoun\n",
      "    that what whatever whatsoever which who whom whosoever\n",
      "WP$: WH-pronoun, possessive\n",
      "    whose\n",
      "WRB: Wh-adverb\n",
      "    how however whence whenever where whereby whereever wherein whereof why\n",
      "``: opening quotation mark\n",
      "    ` ``\n"
     ]
    }
   ],
   "source": [
    "nltk.help.upenn_tagset()"
   ]
  },
  {
   "cell_type": "markdown",
   "id": "e6904479",
   "metadata": {},
   "source": [
    "We want to include only the nouns for topic modelling as topics are all nouns. We include NN, NNP, NNPS and NNS as all these are nouns."
   ]
  },
  {
   "cell_type": "code",
   "execution_count": 19,
   "id": "34c7b49d",
   "metadata": {},
   "outputs": [
    {
     "data": {
      "text/plain": [
       "[[('good', 'JJ'),\n",
       "  ('but', 'CC'),\n",
       "  ('need', 'VBP'),\n",
       "  ('updates', 'NNS'),\n",
       "  ('and', 'CC'),\n",
       "  ('improvements', 'NNS')],\n",
       " [('worst', 'JJS'),\n",
       "  ('mobile', 'NN'),\n",
       "  ('i', 'NN'),\n",
       "  ('have', 'VBP'),\n",
       "  ('bought', 'VBN'),\n",
       "  ('ever', 'RB'),\n",
       "  (',', ','),\n",
       "  ('battery', 'NN'),\n",
       "  ('is', 'VBZ'),\n",
       "  ('draining', 'VBG'),\n",
       "  ('like', 'IN'),\n",
       "  ('hell', 'NN'),\n",
       "  (',', ','),\n",
       "  ('backup', 'NN'),\n",
       "  ('is', 'VBZ'),\n",
       "  ('only', 'RB'),\n",
       "  ('6', 'CD'),\n",
       "  ('to', 'TO'),\n",
       "  ('7', 'CD'),\n",
       "  ('hours', 'NNS'),\n",
       "  ('with', 'IN'),\n",
       "  ('internet', 'JJ'),\n",
       "  ('uses', 'NNS'),\n",
       "  (',', ','),\n",
       "  ('even', 'RB'),\n",
       "  ('if', 'IN'),\n",
       "  ('i', 'JJ'),\n",
       "  ('put', 'VBP'),\n",
       "  ('mobile', 'JJ'),\n",
       "  ('idle', 'NN'),\n",
       "  ('its', 'PRP$'),\n",
       "  ('getting', 'VBG'),\n",
       "  ('discharged.this', 'NN'),\n",
       "  ('is', 'VBZ'),\n",
       "  ('biggest', 'JJS'),\n",
       "  ('lie', 'NN'),\n",
       "  ('from', 'IN'),\n",
       "  ('amazon', 'NN'),\n",
       "  ('&', 'CC'),\n",
       "  ('lenove', 'NN'),\n",
       "  ('which', 'WDT'),\n",
       "  ('is', 'VBZ'),\n",
       "  ('not', 'RB'),\n",
       "  ('at', 'IN'),\n",
       "  ('all', 'DT'),\n",
       "  ('expected', 'VBN'),\n",
       "  (',', ','),\n",
       "  ('they', 'PRP'),\n",
       "  ('are', 'VBP'),\n",
       "  ('making', 'VBG'),\n",
       "  ('full', 'JJ'),\n",
       "  ('by', 'IN'),\n",
       "  ('saying', 'VBG'),\n",
       "  ('that', 'DT'),\n",
       "  ('battery', 'NN'),\n",
       "  ('is', 'VBZ'),\n",
       "  ('4000mah', 'CD'),\n",
       "  ('&', 'CC'),\n",
       "  ('booster', 'JJR'),\n",
       "  ('charger', 'NN'),\n",
       "  ('is', 'VBZ'),\n",
       "  ('fake', 'JJ'),\n",
       "  (',', ','),\n",
       "  ('it', 'PRP'),\n",
       "  ('takes', 'VBZ'),\n",
       "  ('at', 'IN'),\n",
       "  ('least', 'JJS'),\n",
       "  ('4', 'CD'),\n",
       "  ('to', 'TO'),\n",
       "  ('5', 'CD'),\n",
       "  ('hours', 'NNS'),\n",
       "  ('to', 'TO'),\n",
       "  ('be', 'VB'),\n",
       "  ('fully', 'RB'),\n",
       "  ('charged.do', 'VBP'),\n",
       "  (\"n't\", 'RB'),\n",
       "  ('know', 'VB'),\n",
       "  ('how', 'WRB'),\n",
       "  ('lenovo', 'JJ'),\n",
       "  ('will', 'MD'),\n",
       "  ('survive', 'VB'),\n",
       "  ('by', 'IN'),\n",
       "  ('making', 'VBG'),\n",
       "  ('full', 'JJ'),\n",
       "  ('of', 'IN'),\n",
       "  ('us.please', 'JJ'),\n",
       "  ('don', 'NN'),\n",
       "  (';', ':'),\n",
       "  ('t', 'CC'),\n",
       "  ('go', 'VB'),\n",
       "  ('for', 'IN'),\n",
       "  ('this', 'DT'),\n",
       "  ('else', 'JJ'),\n",
       "  ('you', 'PRP'),\n",
       "  ('will', 'MD'),\n",
       "  ('regret', 'VB'),\n",
       "  ('like', 'IN'),\n",
       "  ('me', 'PRP'),\n",
       "  ('.', '.')],\n",
       " [('when', 'WRB'),\n",
       "  ('i', 'NN'),\n",
       "  ('will', 'MD'),\n",
       "  ('get', 'VB'),\n",
       "  ('my', 'PRP$'),\n",
       "  ('10', 'CD'),\n",
       "  ('%', 'NN'),\n",
       "  ('cash', 'NN'),\n",
       "  ('back', 'RB'),\n",
       "  ('....', 'VBZ'),\n",
       "  ('its', 'PRP$'),\n",
       "  ('already', 'RB'),\n",
       "  ('15', 'CD'),\n",
       "  ('january', 'JJ'),\n",
       "  ('..', 'NN')],\n",
       " [('good', 'JJ')],\n",
       " [('the', 'DT'),\n",
       "  ('worst', 'JJS'),\n",
       "  ('phone', 'NN'),\n",
       "  ('everthey', 'NN'),\n",
       "  ('have', 'VBP'),\n",
       "  ('changed', 'VBN'),\n",
       "  ('the', 'DT'),\n",
       "  ('last', 'JJ'),\n",
       "  ('phone', 'NN'),\n",
       "  ('but', 'CC'),\n",
       "  ('the', 'DT'),\n",
       "  ('problem', 'NN'),\n",
       "  ('is', 'VBZ'),\n",
       "  ('still', 'RB'),\n",
       "  ('same', 'JJ'),\n",
       "  ('and', 'CC'),\n",
       "  ('the', 'DT'),\n",
       "  ('amazon', 'NN'),\n",
       "  ('is', 'VBZ'),\n",
       "  ('not', 'RB'),\n",
       "  ('returning', 'VBG'),\n",
       "  ('the', 'DT'),\n",
       "  ('phone', 'NN'),\n",
       "  ('.highly', 'RB'),\n",
       "  ('disappointing', 'JJ'),\n",
       "  ('of', 'IN'),\n",
       "  ('amazon', 'NN')]]"
      ]
     },
     "execution_count": 19,
     "metadata": {},
     "output_type": "execute_result"
    }
   ],
   "source": [
    "pos_tagged_tokens[:5]"
   ]
  },
  {
   "cell_type": "code",
   "execution_count": 20,
   "id": "7459a677",
   "metadata": {},
   "outputs": [],
   "source": [
    "nouns = []\n",
    "for sent in pos_tagged_tokens:    \n",
    "    nouns.append([token for token in sent if re.search('NN.*',token[1])])"
   ]
  },
  {
   "cell_type": "code",
   "execution_count": 21,
   "id": "650cb179",
   "metadata": {},
   "outputs": [
    {
     "data": {
      "text/plain": [
       "[[('updates', 'NNS'), ('improvements', 'NNS')],\n",
       " [('mobile', 'NN'),\n",
       "  ('i', 'NN'),\n",
       "  ('battery', 'NN'),\n",
       "  ('hell', 'NN'),\n",
       "  ('backup', 'NN'),\n",
       "  ('hours', 'NNS'),\n",
       "  ('uses', 'NNS'),\n",
       "  ('idle', 'NN'),\n",
       "  ('discharged.this', 'NN'),\n",
       "  ('lie', 'NN'),\n",
       "  ('amazon', 'NN'),\n",
       "  ('lenove', 'NN'),\n",
       "  ('battery', 'NN'),\n",
       "  ('charger', 'NN'),\n",
       "  ('hours', 'NNS'),\n",
       "  ('don', 'NN')],\n",
       " [('i', 'NN'), ('%', 'NN'), ('cash', 'NN'), ('..', 'NN')],\n",
       " [],\n",
       " [('phone', 'NN'),\n",
       "  ('everthey', 'NN'),\n",
       "  ('phone', 'NN'),\n",
       "  ('problem', 'NN'),\n",
       "  ('amazon', 'NN'),\n",
       "  ('phone', 'NN'),\n",
       "  ('amazon', 'NN')]]"
      ]
     },
     "execution_count": 21,
     "metadata": {},
     "output_type": "execute_result"
    }
   ],
   "source": [
    "nouns[:5]\n"
   ]
  },
  {
   "cell_type": "markdown",
   "id": "db02c216",
   "metadata": {},
   "source": [
    "## Task 6 Lemmatize. Different forms of the terms need to be treated as one."
   ]
  },
  {
   "cell_type": "markdown",
   "id": "2179e8f2",
   "metadata": {},
   "source": [
    "Lemmatizer stems the word to its base form. For example, we can see that words like problems, glitches, features become problem, glitch and feature respectively. Lemmatizer is similar to stemming but more advanced as stemming simply cuts the word to its root, sometimes without any meaning. Lemmatization preserves the meaning of the words."
   ]
  },
  {
   "cell_type": "code",
   "execution_count": 22,
   "id": "7497488a",
   "metadata": {},
   "outputs": [],
   "source": [
    "lemmatizer = WordNetLemmatizer()\n",
    "nouns_lemmatized = []\n",
    "for sent in nouns:    \n",
    "    nouns_lemmatized.append([lemmatizer.lemmatize(word[0]) for word in sent])\n",
    "    "
   ]
  },
  {
   "cell_type": "code",
   "execution_count": 23,
   "id": "43b01ed9",
   "metadata": {},
   "outputs": [
    {
     "data": {
      "text/plain": [
       "[['update', 'improvement'],\n",
       " ['mobile',\n",
       "  'i',\n",
       "  'battery',\n",
       "  'hell',\n",
       "  'backup',\n",
       "  'hour',\n",
       "  'us',\n",
       "  'idle',\n",
       "  'discharged.this',\n",
       "  'lie',\n",
       "  'amazon',\n",
       "  'lenove',\n",
       "  'battery',\n",
       "  'charger',\n",
       "  'hour',\n",
       "  'don'],\n",
       " ['i', '%', 'cash', '..'],\n",
       " [],\n",
       " ['phone', 'everthey', 'phone', 'problem', 'amazon', 'phone', 'amazon']]"
      ]
     },
     "execution_count": 23,
     "metadata": {},
     "output_type": "execute_result"
    }
   ],
   "source": [
    "nouns_lemmatized[:5]"
   ]
  },
  {
   "cell_type": "markdown",
   "id": "d350e95d",
   "metadata": {},
   "source": [
    "## Task 7: Remove stopwords and punctuation (if there are any). "
   ]
  },
  {
   "cell_type": "code",
   "execution_count": 24,
   "id": "fb2e7c3f",
   "metadata": {},
   "outputs": [],
   "source": [
    "# filter out stop words\n",
    "stop_words = set(stopwords.words('english'))\n",
    "tokens = []\n",
    "for sent in nouns_lemmatized:    \n",
    "    tokens.append([word for word in sent if not word in stop_words])"
   ]
  },
  {
   "cell_type": "code",
   "execution_count": 25,
   "id": "ece253ed",
   "metadata": {},
   "outputs": [
    {
     "data": {
      "text/plain": [
       "[['update', 'improvement'],\n",
       " ['mobile',\n",
       "  'battery',\n",
       "  'hell',\n",
       "  'backup',\n",
       "  'hour',\n",
       "  'us',\n",
       "  'idle',\n",
       "  'discharged.this',\n",
       "  'lie',\n",
       "  'amazon',\n",
       "  'lenove',\n",
       "  'battery',\n",
       "  'charger',\n",
       "  'hour'],\n",
       " ['%', 'cash', '..'],\n",
       " [],\n",
       " ['phone', 'everthey', 'phone', 'problem', 'amazon', 'phone', 'amazon']]"
      ]
     },
     "execution_count": 25,
     "metadata": {},
     "output_type": "execute_result"
    }
   ],
   "source": [
    "tokens[:5]"
   ]
  },
  {
   "cell_type": "code",
   "execution_count": 26,
   "id": "fc451f9e",
   "metadata": {},
   "outputs": [],
   "source": [
    "punct_removed = []\n",
    "# prepare regex for char filtering\n",
    "re_punc = re.compile('[%s]' % re.escape(string.punctuation))\n",
    "# remove punctuation from each word\n",
    "for sent in tokens:\n",
    "    punct_removed.append([re_punc.sub('', word) for word in sent])"
   ]
  },
  {
   "cell_type": "code",
   "execution_count": 27,
   "id": "dbe3f4dd",
   "metadata": {},
   "outputs": [
    {
     "data": {
      "text/plain": [
       "[['update', 'improvement'],\n",
       " ['mobile',\n",
       "  'battery',\n",
       "  'hell',\n",
       "  'backup',\n",
       "  'hour',\n",
       "  'us',\n",
       "  'idle',\n",
       "  'dischargedthis',\n",
       "  'lie',\n",
       "  'amazon',\n",
       "  'lenove',\n",
       "  'battery',\n",
       "  'charger',\n",
       "  'hour'],\n",
       " ['', 'cash', ''],\n",
       " [],\n",
       " ['phone', 'everthey', 'phone', 'problem', 'amazon', 'phone', 'amazon']]"
      ]
     },
     "execution_count": 27,
     "metadata": {},
     "output_type": "execute_result"
    }
   ],
   "source": [
    "punct_removed[:5]"
   ]
  },
  {
   "cell_type": "code",
   "execution_count": 28,
   "id": "6a819bd6",
   "metadata": {},
   "outputs": [],
   "source": [
    "br_removed = []\n",
    "re_br = re.compile('(br)$')\n",
    "for sent in punct_removed:\n",
    "    br_removed.append([re_br.sub('', word) for word in sent])"
   ]
  },
  {
   "cell_type": "code",
   "execution_count": 29,
   "id": "892fff6b",
   "metadata": {},
   "outputs": [
    {
     "data": {
      "text/plain": [
       "[['update', 'improvement'],\n",
       " ['mobile',\n",
       "  'battery',\n",
       "  'hell',\n",
       "  'backup',\n",
       "  'hour',\n",
       "  'us',\n",
       "  'idle',\n",
       "  'dischargedthis',\n",
       "  'lie',\n",
       "  'amazon',\n",
       "  'lenove',\n",
       "  'battery',\n",
       "  'charger',\n",
       "  'hour'],\n",
       " ['', 'cash', ''],\n",
       " [],\n",
       " ['phone', 'everthey', 'phone', 'problem', 'amazon', 'phone', 'amazon']]"
      ]
     },
     "execution_count": 29,
     "metadata": {},
     "output_type": "execute_result"
    }
   ],
   "source": [
    "br_removed[:5]"
   ]
  },
  {
   "cell_type": "code",
   "execution_count": 30,
   "id": "676f9c2f",
   "metadata": {},
   "outputs": [],
   "source": [
    "# remove remaining tokens that are not alphabetic\n",
    "tokens = []\n",
    "for sent in br_removed:\n",
    "    tokens.append([word for word in sent if word.isalpha()])"
   ]
  },
  {
   "cell_type": "code",
   "execution_count": 31,
   "id": "0b7508bd",
   "metadata": {},
   "outputs": [
    {
     "data": {
      "text/plain": [
       "[['update', 'improvement'],\n",
       " ['mobile',\n",
       "  'battery',\n",
       "  'hell',\n",
       "  'backup',\n",
       "  'hour',\n",
       "  'us',\n",
       "  'idle',\n",
       "  'dischargedthis',\n",
       "  'lie',\n",
       "  'amazon',\n",
       "  'lenove',\n",
       "  'battery',\n",
       "  'charger',\n",
       "  'hour'],\n",
       " ['cash'],\n",
       " [],\n",
       " ['phone', 'everthey', 'phone', 'problem', 'amazon', 'phone', 'amazon']]"
      ]
     },
     "execution_count": 31,
     "metadata": {},
     "output_type": "execute_result"
    }
   ],
   "source": [
    "tokens[:5]"
   ]
  },
  {
   "cell_type": "markdown",
   "id": "c1590b16",
   "metadata": {},
   "source": [
    "## Task 8: Create a topic model using LDA on the cleaned up data with 12 topics.\n",
    "\n"
   ]
  },
  {
   "cell_type": "markdown",
   "id": "7057f30d",
   "metadata": {},
   "source": [
    "Topic modelling is the task of extracting topics from documents.\n",
    "This is an unsupervised learning technique. Topic modelling is useful in document clustering, document labelling etc.\n",
    "We use LDA to do topic modelling.\n",
    "Latent Dirichlet Allocolation (LDA) is a matrix factorization technique. \n",
    "In LDA, documents need to be represented as a Document Term Matrix.\n",
    "LDA converts the document term matrix into 2 simpler matrices.\n",
    "LDA introduces a latent layer called topics.\n",
    "The 2 simpler matrices are Document Topic matrix and Topic term matrix.\n",
    "LDA is a dimensionality reduction technique as it reduces the number of parameters, without losing information.\n",
    "We do LDA first using sklearn decomposition library and then using gensim library."
   ]
  },
  {
   "cell_type": "markdown",
   "id": "bd07e2c6",
   "metadata": {},
   "source": [
    "### 1. LDA using sklearn decomposition"
   ]
  },
  {
   "cell_type": "code",
   "execution_count": 32,
   "id": "8bba677d",
   "metadata": {},
   "outputs": [],
   "source": [
    "tokens_list = [word for sent in tokens for word in sent] "
   ]
  },
  {
   "cell_type": "code",
   "execution_count": 33,
   "id": "530787fa",
   "metadata": {},
   "outputs": [
    {
     "data": {
      "text/plain": [
       "['update', 'improvement', 'mobile', 'battery', 'hell']"
      ]
     },
     "execution_count": 33,
     "metadata": {},
     "output_type": "execute_result"
    }
   ],
   "source": [
    "tokens_list[:5]"
   ]
  },
  {
   "cell_type": "code",
   "execution_count": 34,
   "id": "4658a65a",
   "metadata": {},
   "outputs": [],
   "source": [
    "# Use features_lda (raw term count) features for LDA.\n",
    "n_topics = 12\n",
    "vect_lda = CountVectorizer(max_df=0.95, min_df=2,\n",
    "                                max_features=5000,\n",
    "                                stop_words='english')\n",
    "\n",
    "lda = LatentDirichletAllocation(n_components=n_topics, random_state=100,max_iter=5,\n",
    "                                learning_method='online',learning_offset=50.)\n",
    "features_lda = vect_lda.fit_transform(tokens_list)\n",
    "lda.fit(features_lda)\n",
    "lda_feature_names = vect_lda.get_feature_names()"
   ]
  },
  {
   "cell_type": "code",
   "execution_count": 35,
   "id": "8532ce4b",
   "metadata": {},
   "outputs": [
    {
     "name": "stdout",
     "output_type": "stream",
     "text": [
      "0 option update video handset replacement data android smartphone card hang \n",
      "1 product heating use lot value delivery customer photo support center \n",
      "2 battery time service speaker sim depth picture cast power request \n",
      "3 camera display app hai jio headphone earphone memory volume killer \n",
      "4 phone mobile feature thing look prize credit sctrach gay kerta \n",
      "5 hour mode sound waste mark dolby bit light sensor effect \n",
      "6 problem day charger heat glass ram apps care till rate \n",
      "7 money network device software music game work hr star piece \n",
      "8 price month experience speed review stock model buy mah image \n",
      "9 performance amazon screen processor superb week clarity company contact signal \n",
      "10 issue note lenovo turbo minute centre item gud cable hotspot \n",
      "11 quality backup range life charge drain usage charging budget return \n"
     ]
    }
   ],
   "source": [
    "n_top_words = 10\n",
    "for i, topic_vec in enumerate(lda.components_):\n",
    "    print(i, end=' ')\n",
    "    for fid in topic_vec.argsort()[-1:-n_top_words-1:-1]:\n",
    "        print(lda_feature_names[fid], end=' ')\n",
    "    print()"
   ]
  },
  {
   "cell_type": "code",
   "execution_count": 36,
   "id": "7d3f40f2",
   "metadata": {},
   "outputs": [],
   "source": [
    "# visualize top words for each model\n",
    "def plot_top_words(model, feature_names, n_top_words, title, nrows, ncols):\n",
    "    fig, axes = plt.subplots(nrows, ncols, figsize=(30, 15), sharex=True)\n",
    "    axes = axes.flatten()\n",
    "    \n",
    "    for topic_idx, topic in enumerate(model.components_):\n",
    "        top_features_ind = topic.argsort()[:-n_top_words - 1:-1]\n",
    "        top_features = [feature_names[i] for i in top_features_ind]\n",
    "        weights = topic[top_features_ind]\n",
    "\n",
    "        ax = axes[topic_idx]\n",
    "        ax.barh(top_features, weights, height=0.7)\n",
    "        ax.set_title(f'Topic {topic_idx +1}',\n",
    "                    fontdict={'fontsize': 30})\n",
    "        ax.invert_yaxis()\n",
    "        ax.tick_params(axis='both', which='major', labelsize=20)\n",
    "        for i in 'top right left'.split():\n",
    "            ax.spines[i].set_visible(False)\n",
    "        fig.suptitle(title, fontsize=40)\n",
    "\n",
    "    plt.subplots_adjust(top=0.90, bottom=0.05, wspace=0.90, hspace=0.3)\n",
    "    plt.show()"
   ]
  },
  {
   "cell_type": "code",
   "execution_count": 37,
   "id": "a93410d7",
   "metadata": {},
   "outputs": [
    {
     "data": {
      "image/png": "[encoded data removed]",
      "text/plain": [
       "<Figure size 2160x1080 with 12 Axes>"
      ]
     },
     "metadata": {
      "needs_background": "light"
     },
     "output_type": "display_data"
    }
   ],
   "source": [
    "plot_top_words(lda, lda_feature_names, n_top_words, 'Topics in LDA model',2,6)"
   ]
  },
  {
   "cell_type": "markdown",
   "id": "1bee2444",
   "metadata": {},
   "source": [
    "## Task 9. Analyze the topics through the business lens. Determine which of the topics can be combined."
   ]
  },
  {
   "cell_type": "code",
   "execution_count": 38,
   "id": "c1340ae3",
   "metadata": {},
   "outputs": [],
   "source": [
    "#Topic 8 and Topic 9 are vaguely about the cost\n",
    "#Topic 3 and 12 are vaguely about the battery life and charger.\n",
    "#Topic 2, 11 and 7 are vaguely about the product heating and problems\n",
    "# These topics can be combined. "
   ]
  },
  {
   "cell_type": "code",
   "execution_count": 39,
   "id": "c4ba3d98",
   "metadata": {},
   "outputs": [
    {
     "name": "stdout",
     "output_type": "stream",
     "text": [
      "Top 10 words for Topic #0\n",
      "['hang', 'card', 'smartphone', 'android', 'data', 'replacement', 'handset', 'video', 'update', 'option']\n",
      "\n",
      "\n",
      "Top 10 words for Topic #1\n",
      "['center', 'support', 'photo', 'customer', 'delivery', 'value', 'lot', 'use', 'heating', 'product']\n",
      "\n",
      "\n",
      "Top 10 words for Topic #2\n",
      "['request', 'power', 'cast', 'picture', 'depth', 'sim', 'speaker', 'service', 'time', 'battery']\n",
      "\n",
      "\n",
      "Top 10 words for Topic #3\n",
      "['killer', 'volume', 'memory', 'earphone', 'headphone', 'jio', 'hai', 'app', 'display', 'camera']\n",
      "\n",
      "\n",
      "Top 10 words for Topic #4\n",
      "['kerta', 'gay', 'sctrach', 'credit', 'prize', 'look', 'thing', 'feature', 'mobile', 'phone']\n",
      "\n",
      "\n",
      "Top 10 words for Topic #5\n",
      "['effect', 'sensor', 'light', 'bit', 'dolby', 'mark', 'waste', 'sound', 'mode', 'hour']\n",
      "\n",
      "\n",
      "Top 10 words for Topic #6\n",
      "['rate', 'till', 'care', 'apps', 'ram', 'glass', 'heat', 'charger', 'day', 'problem']\n",
      "\n",
      "\n",
      "Top 10 words for Topic #7\n",
      "['piece', 'star', 'hr', 'work', 'game', 'music', 'software', 'device', 'network', 'money']\n",
      "\n",
      "\n",
      "Top 10 words for Topic #8\n",
      "['image', 'mah', 'buy', 'model', 'stock', 'review', 'speed', 'experience', 'month', 'price']\n",
      "\n",
      "\n",
      "Top 10 words for Topic #9\n",
      "['signal', 'contact', 'company', 'clarity', 'week', 'superb', 'processor', 'screen', 'amazon', 'performance']\n",
      "\n",
      "\n",
      "Top 10 words for Topic #10\n",
      "['hotspot', 'cable', 'gud', 'item', 'centre', 'minute', 'turbo', 'lenovo', 'note', 'issue']\n",
      "\n",
      "\n",
      "Top 10 words for Topic #11\n",
      "['return', 'budget', 'charging', 'usage', 'drain', 'charge', 'life', 'range', 'backup', 'quality']\n",
      "\n",
      "\n"
     ]
    }
   ],
   "source": [
    "# List the top 10 words\n",
    "for index, topic in enumerate(lda.components_):\n",
    "    print(f'Top 10 words for Topic #{index}')\n",
    "    print([vect_lda.get_feature_names()[i] for i in topic.argsort()[-10:]])\n",
    "    print('\\n')"
   ]
  },
  {
   "cell_type": "code",
   "execution_count": 40,
   "id": "712c8940",
   "metadata": {},
   "outputs": [],
   "source": [
    "# recommended installation with \"gensim\" for topic modeling\n",
    "#!pip install -U \"tmtoolkit[recommended,gensim]\""
   ]
  },
  {
   "cell_type": "code",
   "execution_count": 41,
   "id": "fe673270",
   "metadata": {},
   "outputs": [],
   "source": [
    "import tmtoolkit"
   ]
  },
  {
   "cell_type": "code",
   "execution_count": 42,
   "id": "61848f46",
   "metadata": {},
   "outputs": [],
   "source": [
    "from tmtoolkit.topicmod.evaluate import metric_coherence_gensim"
   ]
  },
  {
   "cell_type": "code",
   "execution_count": 43,
   "id": "3f90e98e",
   "metadata": {},
   "outputs": [
    {
     "data": {
      "text/plain": [
       "[0.7047598939013419,\n",
       " 0.7163920084238806,\n",
       " 0.7117810185937277,\n",
       " 0.7053689166984753,\n",
       " 0.6252001593458175,\n",
       " 0.7052530371228336,\n",
       " 0.7071761185774368,\n",
       " 0.7124607558656569,\n",
       " 0.7059586925947374,\n",
       " 0.7063264704080142,\n",
       " 0.695740154098745,\n",
       " 0.7205257489903963]"
      ]
     },
     "execution_count": 43,
     "metadata": {},
     "output_type": "execute_result"
    }
   ],
   "source": [
    "# Calculate coherence\n",
    "# Tokenize cleaned up corpus\n",
    "tp_tokens = [doc.split() for doc in tokens_list]\n",
    "\n",
    "# C_V coherence\n",
    "\n",
    "metric_coherence_gensim(measure='c_v', \n",
    "                        top_n=12, \n",
    "                        topic_word_distrib=lda.components_, \n",
    "                        dtm=features_lda, \n",
    "                        vocab=np.array(lda_feature_names), \n",
    "                        texts=tp_tokens)\n"
   ]
  },
  {
   "cell_type": "markdown",
   "id": "02f22e16",
   "metadata": {},
   "source": [
    "Coherence measures the interpretability of the topics. Good value for Coherence measure c_V is between 0.5 to 0.7."
   ]
  },
  {
   "cell_type": "markdown",
   "id": "70344d0c",
   "metadata": {},
   "source": [
    "After we combined some topics, we are left with 8 topics. Lets repeat the LDA for 8 topics and see the result."
   ]
  },
  {
   "cell_type": "code",
   "execution_count": 44,
   "id": "54ef8e29",
   "metadata": {},
   "outputs": [],
   "source": [
    "# Use features_lda (raw term count) features for LDA.\n",
    "n_topics = 8\n",
    "vect_lda = CountVectorizer(max_df=0.95, min_df=2,\n",
    "                                max_features=5000,\n",
    "                                stop_words='english')\n",
    "\n",
    "lda = LatentDirichletAllocation(n_components=n_topics, random_state=100,max_iter=5,\n",
    "                                learning_method='online',learning_offset=50.)\n",
    "features_lda = vect_lda.fit_transform(tokens_list)\n",
    "lda.fit(features_lda)\n",
    "lda_feature_names = vect_lda.get_feature_names()"
   ]
  },
  {
   "cell_type": "code",
   "execution_count": 45,
   "id": "ac3b8dd0",
   "metadata": {},
   "outputs": [
    {
     "name": "stdout",
     "output_type": "stream",
     "text": [
      "0 feature network month update video drain handset charging customer hr \n",
      "1 product issue lenovo heating service lot charge value delivery speed \n",
      "2 battery problem time amazon work photo depth picture power clarity \n",
      "3 camera quality display software experience music app ram apps jio \n",
      "4 mobile backup hour use thing usage turbo look bit support \n",
      "5 note price option mode sound life waste game hai budget \n",
      "6 day screen charger range processor heat glass replacement android star \n",
      "7 phone performance money device speaker sim review return smartphone card \n"
     ]
    }
   ],
   "source": [
    "n_top_words = 10\n",
    "for i, topic_vec in enumerate(lda.components_):\n",
    "    print(i, end=' ')\n",
    "    for fid in topic_vec.argsort()[-1:-n_top_words-1:-1]:\n",
    "        print(lda_feature_names[fid], end=' ')\n",
    "    print()\n"
   ]
  },
  {
   "cell_type": "code",
   "execution_count": 46,
   "id": "347df691",
   "metadata": {},
   "outputs": [
    {
     "data": {
      "image/png": "[encoded data removed]",
      "text/plain": [
       "<Figure size 2160x1080 with 8 Axes>"
      ]
     },
     "metadata": {
      "needs_background": "light"
     },
     "output_type": "display_data"
    }
   ],
   "source": [
    "\n",
    "plot_top_words(lda, lda_feature_names, n_top_words, 'Topics in LDA model',1,8)\n"
   ]
  },
  {
   "cell_type": "code",
   "execution_count": 47,
   "id": "9006026c",
   "metadata": {},
   "outputs": [
    {
     "data": {
      "text/plain": [
       "[0.6050646586211936,\n",
       " 0.6284553880560317,\n",
       " 0.618725401394414,\n",
       " 0.6159841471314753,\n",
       " 0.6079911910796645,\n",
       " 0.6137126020653882,\n",
       " 0.6063788032461894,\n",
       " 0.6224073391212486]"
      ]
     },
     "execution_count": 47,
     "metadata": {},
     "output_type": "execute_result"
    }
   ],
   "source": [
    "\n",
    "# Calculate coherence\n",
    "# Tokenize cleaned up corpus\n",
    "tp_tokens = [doc.split() for doc in tokens_list]\n",
    "\n",
    "# C_V coherence\n",
    "\n",
    "metric_coherence_gensim(measure='c_v', \n",
    "                        top_n=8, \n",
    "                        topic_word_distrib=lda.components_, \n",
    "                        dtm=features_lda, \n",
    "                        vocab=np.array(lda_feature_names), \n",
    "                        texts=tp_tokens)\n"
   ]
  },
  {
   "cell_type": "markdown",
   "id": "f3fc8248",
   "metadata": {},
   "source": [
    "### 2. Perform LDA using gensim"
   ]
  },
  {
   "cell_type": "code",
   "execution_count": 48,
   "id": "b5e30581",
   "metadata": {},
   "outputs": [],
   "source": [
    "import gensim\n",
    "import gensim.corpora as corpora\n",
    "import gensim.models.coherencemodel as CoherenceModel"
   ]
  },
  {
   "cell_type": "code",
   "execution_count": 49,
   "id": "664b5617",
   "metadata": {},
   "outputs": [
    {
     "data": {
      "text/plain": [
       "[['update', 'improvement'],\n",
       " ['mobile',\n",
       "  'battery',\n",
       "  'hell',\n",
       "  'backup',\n",
       "  'hour',\n",
       "  'us',\n",
       "  'idle',\n",
       "  'dischargedthis',\n",
       "  'lie',\n",
       "  'amazon',\n",
       "  'lenove',\n",
       "  'battery',\n",
       "  'charger',\n",
       "  'hour'],\n",
       " ['cash'],\n",
       " [],\n",
       " ['phone', 'everthey', 'phone', 'problem', 'amazon', 'phone', 'amazon']]"
      ]
     },
     "execution_count": 49,
     "metadata": {},
     "output_type": "execute_result"
    }
   ],
   "source": [
    "tokens[:5]"
   ]
  },
  {
   "cell_type": "code",
   "execution_count": 50,
   "id": "92e5d692",
   "metadata": {},
   "outputs": [],
   "source": [
    "new_tokens = []\n",
    "for sent in tokens:\n",
    "    if (len(sent) != 0):\n",
    "        new_tokens.append(sent)"
   ]
  },
  {
   "cell_type": "code",
   "execution_count": 51,
   "id": "ca4ffcb0",
   "metadata": {},
   "outputs": [
    {
     "data": {
      "text/plain": [
       "<gensim.corpora.dictionary.Dictionary at 0x1ee869d4a60>"
      ]
     },
     "execution_count": 51,
     "metadata": {},
     "output_type": "execute_result"
    }
   ],
   "source": [
    "id2word = corpora.Dictionary(new_tokens)\n",
    "id2word"
   ]
  },
  {
   "cell_type": "code",
   "execution_count": 52,
   "id": "f2221165",
   "metadata": {},
   "outputs": [],
   "source": [
    "texts = new_tokens"
   ]
  },
  {
   "cell_type": "code",
   "execution_count": 53,
   "id": "1423d1d5",
   "metadata": {},
   "outputs": [],
   "source": [
    "corpus = [id2word.doc2bow(text) for text in texts]"
   ]
  },
  {
   "cell_type": "code",
   "execution_count": 54,
   "id": "32d8d950",
   "metadata": {},
   "outputs": [
    {
     "data": {
      "text/plain": [
       "[(0, 1), (1, 1)]"
      ]
     },
     "execution_count": 54,
     "metadata": {},
     "output_type": "execute_result"
    }
   ],
   "source": [
    "corpus[0]"
   ]
  },
  {
   "cell_type": "code",
   "execution_count": 55,
   "id": "3ad470e3",
   "metadata": {},
   "outputs": [],
   "source": [
    "## LDA for 12 topics"
   ]
  },
  {
   "cell_type": "code",
   "execution_count": 56,
   "id": "6a1090d0",
   "metadata": {},
   "outputs": [],
   "source": [
    "lda_gensim_model = gensim.models.ldamodel.LdaModel(corpus=corpus, id2word=id2word, num_topics=12, passes=10, per_word_topics=True, random_state=100)"
   ]
  },
  {
   "cell_type": "code",
   "execution_count": 57,
   "id": "c61c8f79",
   "metadata": {},
   "outputs": [
    {
     "name": "stdout",
     "output_type": "stream",
     "text": [
      "(0, '0.239*\"mobile\" + 0.124*\"price\" + 0.099*\"money\" + 0.064*\"phone\" + 0.045*\"waste\" + 0.044*\"range\" + 0.038*\"value\" + 0.030*\"glass\" + 0.017*\"gorilla\" + 0.016*\"excellent\"')\n"
     ]
    }
   ],
   "source": [
    "print(lda_gensim_model.print_topics()[0])"
   ]
  },
  {
   "cell_type": "code",
   "execution_count": 58,
   "id": "53daa668",
   "metadata": {},
   "outputs": [
    {
     "name": "stdout",
     "output_type": "stream",
     "text": [
      "(1, '0.083*\"device\" + 0.061*\"handset\" + 0.057*\"hai\" + 0.038*\"box\" + 0.028*\"headphone\" + 0.025*\"piece\" + 0.020*\"ho\" + 0.019*\"hi\" + 0.017*\"tv\" + 0.017*\"bill\"')\n"
     ]
    }
   ],
   "source": [
    "print(lda_gensim_model.print_topics()[1])"
   ]
  },
  {
   "cell_type": "code",
   "execution_count": 59,
   "id": "61ce2adb",
   "metadata": {},
   "outputs": [
    {
     "name": "stdout",
     "output_type": "stream",
     "text": [
      "(2, '0.238*\"performance\" + 0.072*\"camera\" + 0.054*\"ram\" + 0.047*\"speed\" + 0.044*\"processor\" + 0.027*\"worth\" + 0.026*\"gb\" + 0.020*\"update\" + 0.019*\"class\" + 0.016*\"look\"')\n"
     ]
    }
   ],
   "source": [
    "print(lda_gensim_model.print_topics()[2])"
   ]
  },
  {
   "cell_type": "code",
   "execution_count": 60,
   "id": "4de71384",
   "metadata": {},
   "outputs": [
    {
     "name": "stdout",
     "output_type": "stream",
     "text": [
      "(3, '0.077*\"call\" + 0.074*\"speaker\" + 0.049*\"everything\" + 0.035*\"work\" + 0.034*\"apps\" + 0.026*\"hang\" + 0.024*\"volume\" + 0.023*\"light\" + 0.021*\"option\" + 0.020*\"application\"')\n"
     ]
    }
   ],
   "source": [
    "print(lda_gensim_model.print_topics()[3])"
   ]
  },
  {
   "cell_type": "code",
   "execution_count": 61,
   "id": "476af2ba",
   "metadata": {},
   "outputs": [
    {
     "name": "stdout",
     "output_type": "stream",
     "text": [
      "(4, '0.283*\"phone\" + 0.082*\"note\" + 0.049*\"lenovo\" + 0.039*\"feature\" + 0.012*\"budget\" + 0.011*\"system\" + 0.010*\"model\" + 0.010*\"update\" + 0.010*\"dolby\" + 0.010*\"screen\"')\n"
     ]
    }
   ],
   "source": [
    "print(lda_gensim_model.print_topics()[4])"
   ]
  },
  {
   "cell_type": "code",
   "execution_count": 62,
   "id": "45a97485",
   "metadata": {},
   "outputs": [
    {
     "name": "stdout",
     "output_type": "stream",
     "text": [
      "(5, '0.087*\"phone\" + 0.069*\"service\" + 0.067*\"amazon\" + 0.061*\"time\" + 0.031*\"day\" + 0.030*\"customer\" + 0.026*\"month\" + 0.025*\"issue\" + 0.024*\"replacement\" + 0.024*\"return\"')\n"
     ]
    }
   ],
   "source": [
    "print(lda_gensim_model.print_topics()[5])"
   ]
  },
  {
   "cell_type": "code",
   "execution_count": 63,
   "id": "547aedbc",
   "metadata": {},
   "outputs": [
    {
     "name": "stdout",
     "output_type": "stream",
     "text": [
      "(6, '0.123*\"quality\" + 0.113*\"screen\" + 0.066*\"display\" + 0.042*\"cast\" + 0.041*\"smartphone\" + 0.037*\"buy\" + 0.030*\"expectation\" + 0.025*\"pls\" + 0.025*\"till\" + 0.023*\"option\"')\n"
     ]
    }
   ],
   "source": [
    "print(lda_gensim_model.print_topics()[6])"
   ]
  },
  {
   "cell_type": "code",
   "execution_count": 64,
   "id": "3195dc10",
   "metadata": {},
   "outputs": [
    {
     "name": "stdout",
     "output_type": "stream",
     "text": [
      "(7, '0.215*\"camera\" + 0.080*\"quality\" + 0.067*\"phone\" + 0.026*\"mode\" + 0.018*\"music\" + 0.017*\"video\" + 0.015*\"depth\" + 0.014*\"photo\" + 0.014*\"sound\" + 0.012*\"clarity\"')\n"
     ]
    }
   ],
   "source": [
    "print(lda_gensim_model.print_topics()[7])"
   ]
  },
  {
   "cell_type": "code",
   "execution_count": 65,
   "id": "da3433f8",
   "metadata": {},
   "outputs": [
    {
     "name": "stdout",
     "output_type": "stream",
     "text": [
      "(8, '0.349*\"battery\" + 0.090*\"backup\" + 0.060*\"camera\" + 0.049*\"life\" + 0.033*\"drain\" + 0.018*\"mah\" + 0.016*\"day\" + 0.013*\"ok\" + 0.013*\"mark\" + 0.011*\"plz\"')\n"
     ]
    }
   ],
   "source": [
    "print(lda_gensim_model.print_topics()[8])"
   ]
  },
  {
   "cell_type": "code",
   "execution_count": 66,
   "id": "05cece6c",
   "metadata": {},
   "outputs": [
    {
     "name": "stdout",
     "output_type": "stream",
     "text": [
      "(9, '0.104*\"phone\" + 0.092*\"issue\" + 0.071*\"battery\" + 0.052*\"day\" + 0.044*\"charger\" + 0.043*\"hour\" + 0.030*\"heat\" + 0.029*\"charge\" + 0.028*\"time\" + 0.020*\"turbo\"')\n"
     ]
    }
   ],
   "source": [
    "print(lda_gensim_model.print_topics()[9])"
   ]
  },
  {
   "cell_type": "code",
   "execution_count": 67,
   "id": "df5fa461",
   "metadata": {},
   "outputs": [
    {
     "name": "stdout",
     "output_type": "stream",
     "text": [
      "(10, '0.478*\"product\" + 0.039*\"delivery\" + 0.020*\"earphone\" + 0.019*\"amazon\" + 0.016*\"lenovo\" + 0.015*\"awesome\" + 0.012*\"condition\" + 0.010*\"offer\" + 0.010*\"thank\" + 0.010*\"complaint\"')\n"
     ]
    }
   ],
   "source": [
    "print(lda_gensim_model.print_topics()[10])"
   ]
  },
  {
   "cell_type": "code",
   "execution_count": 68,
   "id": "c188fecc",
   "metadata": {},
   "outputs": [
    {
     "name": "stdout",
     "output_type": "stream",
     "text": [
      "(11, '0.216*\"problem\" + 0.078*\"network\" + 0.065*\"heating\" + 0.045*\"issue\" + 0.039*\"sim\" + 0.029*\"phone\" + 0.021*\"jio\" + 0.019*\"call\" + 0.017*\"volta\" + 0.017*\"card\"')\n"
     ]
    }
   ],
   "source": [
    "print(lda_gensim_model.print_topics()[11])"
   ]
  },
  {
   "cell_type": "markdown",
   "id": "68f8575f",
   "metadata": {},
   "source": [
    "Coherence score for 12 topics"
   ]
  },
  {
   "cell_type": "code",
   "execution_count": 69,
   "id": "6e4ceeea",
   "metadata": {},
   "outputs": [
    {
     "data": {
      "text/plain": [
       "0.5269852837716734"
      ]
     },
     "execution_count": 69,
     "metadata": {},
     "output_type": "execute_result"
    }
   ],
   "source": [
    "coherence_model = CoherenceModel.CoherenceModel(model=lda_gensim_model, texts=texts,dictionary=id2word,coherence='c_v')\n",
    "coherence_lda = coherence_model.get_coherence()\n",
    "coherence_lda"
   ]
  },
  {
   "cell_type": "markdown",
   "id": "fc050748",
   "metadata": {},
   "source": [
    "## Task 10. Create topic model using LDA with what you think is the optimal number of topics"
   ]
  },
  {
   "cell_type": "markdown",
   "id": "914b2017",
   "metadata": {},
   "source": [
    "Topics 8,9 and 11 deal with issue/problem/batery/charger/heating. So they can be combined.\n",
    "Topics 2 and 7 deal with camera /quality. So they can be combined.\n",
    "\n",
    "we can set the optimal number of topics as 8."
   ]
  },
  {
   "cell_type": "code",
   "execution_count": 70,
   "id": "c9a1e95a",
   "metadata": {},
   "outputs": [],
   "source": [
    "lda_gensim_model = gensim.models.ldamodel.LdaModel(corpus=corpus, id2word=id2word, num_topics=8, passes=10, per_word_topics=True, random_state=100)"
   ]
  },
  {
   "cell_type": "markdown",
   "id": "412137e4",
   "metadata": {},
   "source": [
    "### Coherence of the model"
   ]
  },
  {
   "cell_type": "code",
   "execution_count": 71,
   "id": "0648f50e",
   "metadata": {},
   "outputs": [
    {
     "data": {
      "text/plain": [
       "0.574572562839575"
      ]
     },
     "execution_count": 71,
     "metadata": {},
     "output_type": "execute_result"
    }
   ],
   "source": [
    "coherence_model = CoherenceModel.CoherenceModel(model=lda_gensim_model, texts=texts,dictionary=id2word,coherence='c_v')\n",
    "coherence_lda = coherence_model.get_coherence()\n",
    "coherence_lda"
   ]
  },
  {
   "cell_type": "markdown",
   "id": "8468c053",
   "metadata": {},
   "source": [
    "We can see that the coherence score has increased from 0.53 to 0.574 which is a good indication that the optimal number of topics is 8. Good coherence score should be between 0.5 and 0.7."
   ]
  },
  {
   "cell_type": "markdown",
   "id": "c9f4c159",
   "metadata": {},
   "source": [
    "## Task 11. The business should  be able to interpret the topics."
   ]
  },
  {
   "cell_type": "code",
   "execution_count": 72,
   "id": "54a208db",
   "metadata": {},
   "outputs": [
    {
     "name": "stdout",
     "output_type": "stream",
     "text": [
      "(0, '0.183*\"mobile\" + 0.110*\"price\" + 0.076*\"money\" + 0.065*\"phone\" + 0.036*\"range\" + 0.034*\"waste\" + 0.029*\"value\" + 0.021*\"superb\" + 0.015*\"feature\" + 0.015*\"heat\"')\n",
      "(1, '0.044*\"handset\" + 0.042*\"device\" + 0.041*\"hai\" + 0.035*\"replacement\" + 0.017*\"headphone\" + 0.015*\"ho\" + 0.013*\"hi\" + 0.012*\"bill\" + 0.010*\"piece\" + 0.010*\"thanks\"')\n",
      "(2, '0.232*\"battery\" + 0.063*\"phone\" + 0.047*\"performance\" + 0.046*\"backup\" + 0.042*\"camera\" + 0.034*\"day\" + 0.030*\"hour\" + 0.025*\"life\" + 0.024*\"issue\" + 0.020*\"problem\"')\n",
      "(3, '0.161*\"product\" + 0.108*\"problem\" + 0.052*\"issue\" + 0.050*\"network\" + 0.038*\"heating\" + 0.024*\"sim\" + 0.021*\"call\" + 0.013*\"time\" + 0.013*\"jio\" + 0.012*\"work\"')\n",
      "(4, '0.202*\"phone\" + 0.056*\"note\" + 0.035*\"lenovo\" + 0.025*\"feature\" + 0.019*\"update\" + 0.019*\"issue\" + 0.013*\"software\" + 0.011*\"screen\" + 0.009*\"day\" + 0.009*\"time\"')\n",
      "(5, '0.073*\"phone\" + 0.050*\"amazon\" + 0.044*\"service\" + 0.042*\"product\" + 0.039*\"charger\" + 0.026*\"month\" + 0.025*\"time\" + 0.023*\"day\" + 0.021*\"delivery\" + 0.019*\"customer\"')\n",
      "(6, '0.055*\"screen\" + 0.035*\"option\" + 0.035*\"call\" + 0.024*\"cast\" + 0.019*\"contact\" + 0.017*\"notification\" + 0.016*\"need\" + 0.015*\"display\" + 0.015*\"cost\" + 0.015*\"message\"')\n",
      "(7, '0.161*\"camera\" + 0.082*\"quality\" + 0.062*\"phone\" + 0.018*\"mode\" + 0.017*\"performance\" + 0.016*\"sound\" + 0.013*\"processor\" + 0.011*\"depth\" + 0.010*\"video\" + 0.010*\"photo\"')\n"
     ]
    }
   ],
   "source": [
    "print(lda_gensim_model.print_topics()[0])\n",
    "print(lda_gensim_model.print_topics()[1])\n",
    "print(lda_gensim_model.print_topics()[2])\n",
    "print(lda_gensim_model.print_topics()[3])\n",
    "print(lda_gensim_model.print_topics()[4])\n",
    "print(lda_gensim_model.print_topics()[5])\n",
    "print(lda_gensim_model.print_topics()[6])\n",
    "print(lda_gensim_model.print_topics()[7])"
   ]
  },
  {
   "cell_type": "markdown",
   "id": "ffcbd19e",
   "metadata": {},
   "source": [
    "### 1. Name each of the identified topics."
   ]
  },
  {
   "cell_type": "code",
   "execution_count": 73,
   "id": "c9db4370",
   "metadata": {},
   "outputs": [],
   "source": [
    "#Topic 0 deals with price/money/waste/value. So this can be termed as cost-effectiveness\n",
    "#Topic 1 deals with handset/device/headphone/piece etc. This can be termed as device and accessories\n",
    "#Topic 2 deals with battery/performance.backup/life. This can be termed as battery related\n",
    "#Topic 3 deals with problem/issues/heating etc. This can be termed as product issues\n",
    "#Topic 4 deals with features/software/update/issue. This can be termed as software issues\n",
    "#Topic 5 deals with deals with amazon/service/delivery/customer. This can be termed as customer-service\n",
    "#Topic 6 deals with screen/display/message/notification/contact/call. This can be termed as communication/connectivity\n",
    "#Topic 7 deals with camera/quality/video/photo/sound. This can be termed as audio/video"
   ]
  },
  {
   "cell_type": "markdown",
   "id": "d260e6f7",
   "metadata": {},
   "source": [
    "### 2. Create a table with the topic name and the top 10 terms in each to present to the  business."
   ]
  },
  {
   "cell_type": "markdown",
   "id": "f20afb20",
   "metadata": {},
   "source": [
    "<table>\n",
    "<tr>\n",
    "    <th>\n",
    "    </th>\n",
    "    <th>\n",
    "        Topic\n",
    "    </th>\n",
    "    <th>\n",
    "        Terms\n",
    "    </th>\n",
    "</tr>\n",
    "<tr>\n",
    "    <td>\n",
    "        1\n",
    "    </td>\n",
    "    <td>\n",
    "        cost-effectiveness\n",
    "    </td>\n",
    "    <td>\n",
    "        mobile, price, money,phone,range,waste,value,superb,feature,heat\n",
    "    </td>\n",
    "</tr>\n",
    "<tr>\n",
    "    <td>\n",
    "        2\n",
    "    </td>\n",
    "    <td>\n",
    "        device and accessories\n",
    "    </td>\n",
    "    <td>\n",
    "        handset,device,hai,replacement,headphone,ho,hi,bil,piece,thanks\n",
    "    </td>\n",
    "</tr>\n",
    " <tr>\n",
    "    <td>\n",
    "        3\n",
    "    </td>\n",
    "    <td>\n",
    "        battery related\n",
    "    </td>\n",
    "    <td>\n",
    "        battery,phone,performance,backup,camera,day,hour,life,issue,problem\n",
    "    </td>\n",
    "</tr>\n",
    "<tr>\n",
    "    <td>\n",
    "        4\n",
    "    </td>\n",
    "    <td>\n",
    "        product issues\n",
    "    </td>\n",
    "    <td>\n",
    "        product,problem,issue,network,heating,sim,call,time,jio,work\n",
    "    </td>\n",
    "</tr>\n",
    "<tr>\n",
    "    <td>\n",
    "        5\n",
    "    </td>\n",
    "    <td>\n",
    "        software issues\n",
    "    </td>\n",
    "    <td>\n",
    "        phone,note,lenovo,feature,update,issue,software,screen,day,time\n",
    "    </td>\n",
    "</tr>\n",
    "<tr>\n",
    "    <td>\n",
    "        6\n",
    "    </td>\n",
    "    <td>\n",
    "        customer service\n",
    "    </td>\n",
    "    <td>\n",
    "        phone,amazon,service,product,charger,month,time,day,delivery,customer\n",
    "    </td>\n",
    "</tr>\n",
    "<tr>\n",
    "    <td>\n",
    "        7\n",
    "    </td>\n",
    "    <td>\n",
    "        connectivity\n",
    "    </td>\n",
    "    <td>\n",
    "        screen,option,call,cast,contact,notification,need,display,cost,message\n",
    "    </td>\n",
    "</tr>\n",
    "<tr>\n",
    "    <td>\n",
    "        8\n",
    "    </td>\n",
    "    <td>\n",
    "        audio/video\n",
    "    </td>\n",
    "    <td>\n",
    "        camera,quality,phone,mode,performance,sound,processor,depth,video,photo\n",
    "    </td>\n",
    "</tr>\n",
    "</table>"
   ]
  },
  {
   "cell_type": "markdown",
   "id": "c58578b3",
   "metadata": {},
   "source": [
    "## Conclusion"
   ]
  },
  {
   "cell_type": "markdown",
   "id": "745645ec",
   "metadata": {},
   "source": [
    "We did Topic Analysis for the customer reviews of the Lenovo mobile. The steps we did includes text preprocessing to remove unwanted characters and normalization including case normalization and lemmatization. We did POS tagging to extract only the nouns. Then we used LDA to extract the topics. We confirmed the interpretability of the topics using Coherence score. Finally, we analysed the topics and gave a name to each of the topics. The topic names along with the top ten terms were presented in a table."
   ]
  }
 ],
 "metadata": {
  "kernelspec": {
   "display_name": "Python 3",
   "language": "python",
   "name": "python3"
  },
  "language_info": {
   "codemirror_mode": {
    "name": "ipython",
    "version": 3
   },
   "file_extension": ".py",
   "mimetype": "text/x-python",
   "name": "python",
   "nbconvert_exporter": "python",
   "pygments_lexer": "ipython3",
   "version": "3.8.8"
  }
 },
 "nbformat": 4,
 "nbformat_minor": 5
}
